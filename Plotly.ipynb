{
 "cells": [
  {
   "cell_type": "code",
   "execution_count": 7,
   "metadata": {},
   "outputs": [],
   "source": [
    "from pandas import Series, DataFrame\n",
    "import matplotlib.pyplot as plt\n",
    "import pandas as pd\n",
    "import numpy as np\n",
    "import plotly.express as px\n",
    "from plotly.offline import plot\n",
    "import ipywidgets as widgets\n",
    "import chart_studio.plotly as py\n",
    "import plotly.graph_objs as go\n",
    "from scipy.signal import argrelextrema"
   ]
  },
  {
   "cell_type": "code",
   "execution_count": 8,
   "metadata": {},
   "outputs": [],
   "source": [
    "df_A = pd.read_csv('AEP_daily.csv')\n",
    "df_A ['Datetime']= pd.to_datetime(df_A['Datetime'])\n",
    "df_A = df_A.set_index('Datetime')\n",
    "df_A.columns = ['Datos']"
   ]
  },
  {
   "cell_type": "markdown",
   "metadata": {},
   "source": [
    "<font size=\"16\">Visualización de datos</font><br> <br>\n",
    "Para tener una noción de los datos, se utilizó una librería interactiva de Python y para visualizar los mínimos y máximos de la gráfica se utlitizó un parámetro (n, mientras mayor sea, menor serán los puntos definidos como máximos o mínimos). Por favor, defínalo a continuación:"
   ]
  },
  {
   "cell_type": "code",
   "execution_count": 9,
   "metadata": {},
   "outputs": [
    {
     "data": {
      "application/vnd.jupyter.widget-view+json": {
       "model_id": "80000fab47504199bee0364678cce68b",
       "version_major": 2,
       "version_minor": 0
      },
      "text/plain": [
       "interactive(children=(IntSlider(value=50, description='n', min=1), Output()), _dom_classes=('widget-interact',…"
      ]
     },
     "metadata": {},
     "output_type": "display_data"
    },
    {
     "data": {
      "text/plain": [
       "<function __main__.asys(n)>"
      ]
     },
     "execution_count": 9,
     "metadata": {},
     "output_type": "execute_result"
    }
   ],
   "source": [
    "def asys (n):\n",
    "    text = f'El número de puntos a comparar es: {n}'\n",
    "    print (text)\n",
    "    \n",
    "    df_A['Mínimos'] = df_A.iloc[argrelextrema(df_A.Datos.values, np.less_equal, order=n)[0]]['Datos']\n",
    "    df_A['Máximos'] = df_A.iloc[argrelextrema(df_A.Datos.values, np.greater_equal, order=n)[0]]['Datos']\n",
    "    \n",
    "    fig = px.scatter(df_A, x=df_A.index, y=[\"Datos\", \"Mínimos\", \"Máximos\"], width=1300, height=500, labels={\"variable\": \"Simbología\"})\n",
    "    fig.update_layout(title='Consumo energético en el tiempo', xaxis=dict(title_text=\"Fecha\"), yaxis=dict(title_text=\"Energía (MW)\"))\n",
    "    fig.show()\n",
    "\n",
    "widgets.interact(asys, n=(1, 100, 1))"
   ]
  },
  {
   "cell_type": "code",
   "execution_count": null,
   "metadata": {},
   "outputs": [],
   "source": []
  },
  {
   "cell_type": "code",
   "execution_count": null,
   "metadata": {},
   "outputs": [],
   "source": []
  }
 ],
 "metadata": {
  "kernelspec": {
   "display_name": "Python 3",
   "language": "python",
   "name": "python3"
  },
  "language_info": {
   "codemirror_mode": {
    "name": "ipython",
    "version": 3
   },
   "file_extension": ".py",
   "mimetype": "text/x-python",
   "name": "python",
   "nbconvert_exporter": "python",
   "pygments_lexer": "ipython3",
   "version": "3.8.5"
  }
 },
 "nbformat": 4,
 "nbformat_minor": 4
}
