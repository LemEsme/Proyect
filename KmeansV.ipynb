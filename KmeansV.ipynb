{
 "cells": [
  {
   "cell_type": "code",
   "execution_count": 1,
   "metadata": {},
   "outputs": [],
   "source": [
    "from pandas import Series, DataFrame\n",
    "import matplotlib.pyplot as plt\n",
    "import pandas as pd\n",
    "import ipywidgets as widgets\n",
    "from sklearn.cluster import KMeans\n",
    "from sklearn.preprocessing import StandardScaler\n",
    "from sklearn.decomposition import PCA"
   ]
  },
  {
   "cell_type": "code",
   "execution_count": 2,
   "metadata": {},
   "outputs": [],
   "source": [
    "df_A = pd.read_csv('AEP_daily.csv')\n",
    "df_A ['Datetime']= pd.to_datetime(df_A['Datetime'])\n",
    "df_A = df_A.set_index('Datetime')"
   ]
  },
  {
   "cell_type": "code",
   "execution_count": 3,
   "metadata": {},
   "outputs": [],
   "source": [
    "def series_to_array(data, n_in=1, n_out=1, dropnan=True):\n",
    "    n_vars = 1 if type(data) is list else data.shape[1] #reshape to  list\n",
    "    df = pd.DataFrame(data)\n",
    "    cols, names = list(), list()\n",
    "    # input sequence (t-n, ... t-1)\n",
    "    for i in range(n_in, 0, -1):\n",
    "        cols.append(df.shift(i))\n",
    "        names += [('var%d(t-%d)' % (j+1, i)) for j in range(n_vars)]\n",
    "    # put it all together\n",
    "    agg = pd.concat(cols, axis=1)\n",
    "    agg.columns = names\n",
    "    # drop rows with NaN values\n",
    "    if dropnan:\n",
    "        agg.dropna(inplace=True)\n",
    "    return agg"
   ]
  },
  {
   "cell_type": "markdown",
   "metadata": {},
   "source": [
    "<font size=\"16\">Kmeans</font><br> <br>\n",
    "Para visualizar la agrupación de los datos introducidos, se utilizó el algoritmo de Kmeans por lo que es necesario definir tanto el número de ventanas como la constante k. Por favor, defínalas a continuación:"
   ]
  },
  {
   "cell_type": "code",
   "execution_count": 4,
   "metadata": {},
   "outputs": [
    {
     "data": {
      "application/vnd.jupyter.widget-view+json": {
       "model_id": "1aa72c3ed1344dc3a1b8645fbb647ff3",
       "version_major": 2,
       "version_minor": 0
      },
      "text/plain": [
       "interactive(children=(IntSlider(value=15, description='v', max=30, min=1), IntSlider(value=8, description='k',…"
      ]
     },
     "metadata": {},
     "output_type": "display_data"
    },
    {
     "data": {
      "text/plain": [
       "<function __main__.kmeans(v, k)>"
      ]
     },
     "execution_count": 4,
     "metadata": {},
     "output_type": "execute_result"
    }
   ],
   "source": [
    "def kmeans (v, k):\n",
    "    print (f'El tamaño definido de la ventana es: {v}')\n",
    "    print (f'El número de agrupaciones definido es: {k}')\n",
    "    x = series_to_array (df_A, v)\n",
    "    df_A_copy = df_A.copy()\n",
    "    df_A_values = df_A_copy.drop(df_A_copy.index[0:v],axis=0)\n",
    "    \n",
    "    kmeans = KMeans(n_clusters=k,random_state=10).fit(x)\n",
    "    y_predict = kmeans.predict(x) \n",
    "    plt.figure(figsize=(20,5))\n",
    "    plt.scatter(df_A_values.index, df_A_values['AEP_MW'], c=y_predict, cmap='tab20', s=7)\n",
    "    plt.title('Consumo energético en el tiempo', fontweight=\"bold\", fontsize=16)\n",
    "    plt.xlabel('Tiempo', fontsize=12)\n",
    "    plt.ylabel('Energía (MW)', fontsize=12)\n",
    "    plt.show()\n",
    "    \n",
    "    scaler = StandardScaler()\n",
    "    AEP_s = scaler.fit_transform(x)\n",
    "    AEP_PCA = PCA(n_components = 2)\n",
    "    AEP_PCA.fit(AEP_s)\n",
    "    AEP_results = AEP_PCA.transform(AEP_s)\n",
    "    x_PCA = pd.DataFrame(AEP_results)\n",
    "    x_PCA.columns = ['One', 'Two']\n",
    "    plt.figure(figsize=(20,5))\n",
    "    plt.scatter(x_PCA['One'], x_PCA['Two'], c=y_predict, cmap='tab20', s=7)\n",
    "    plt.title('Vizualización de agrupación 2D', fontweight=\"bold\", fontsize=16)\n",
    "    plt.xlabel('Component 1', fontsize=12)\n",
    "    plt.ylabel('Component 2', fontsize=12)\n",
    "    plt.show()\n",
    "    \n",
    "widgets.interact(kmeans, v=(1, 30, 1), k =(1, 15, 1))"
   ]
  },
  {
   "cell_type": "code",
   "execution_count": null,
   "metadata": {},
   "outputs": [],
   "source": []
  },
  {
   "cell_type": "code",
   "execution_count": null,
   "metadata": {},
   "outputs": [],
   "source": [
    "\n"
   ]
  },
  {
   "cell_type": "code",
   "execution_count": null,
   "metadata": {},
   "outputs": [],
   "source": []
  },
  {
   "cell_type": "code",
   "execution_count": null,
   "metadata": {},
   "outputs": [],
   "source": []
  },
  {
   "cell_type": "code",
   "execution_count": null,
   "metadata": {},
   "outputs": [],
   "source": []
  }
 ],
 "metadata": {
  "kernelspec": {
   "display_name": "Python 3",
   "language": "python",
   "name": "python3"
  },
  "language_info": {
   "codemirror_mode": {
    "name": "ipython",
    "version": 3
   },
   "file_extension": ".py",
   "mimetype": "text/x-python",
   "name": "python",
   "nbconvert_exporter": "python",
   "pygments_lexer": "ipython3",
   "version": "3.8.5"
  }
 },
 "nbformat": 4,
 "nbformat_minor": 4
}
